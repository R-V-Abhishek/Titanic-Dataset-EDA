{
 "cells": [
  {
   "cell_type": "markdown",
   "id": "fc13158f",
   "metadata": {},
   "source": [
    "## Step 1: Load and Preview the Titanic Dataset\n",
    "\n",
    "In this step, we load the dataset from the CSV file and preview the structure of the data.  \n",
    "We use `pandas` to read the file and display the first few rows using `.head()`.\n",
    "\n",
    "We'll also print the shape of the dataset to understand the number of rows (passengers) and columns (features).\n"
   ]
  },
  {
   "cell_type": "code",
   "execution_count": 2,
   "id": "350a1808",
   "metadata": {},
   "outputs": [
    {
     "name": "stdout",
     "output_type": "stream",
     "text": [
      "Shape of dataset: (891, 12)\n"
     ]
    },
    {
     "data": {
      "text/html": [
       "<div>\n",
       "<style scoped>\n",
       "    .dataframe tbody tr th:only-of-type {\n",
       "        vertical-align: middle;\n",
       "    }\n",
       "\n",
       "    .dataframe tbody tr th {\n",
       "        vertical-align: top;\n",
       "    }\n",
       "\n",
       "    .dataframe thead th {\n",
       "        text-align: right;\n",
       "    }\n",
       "</style>\n",
       "<table border=\"1\" class=\"dataframe\">\n",
       "  <thead>\n",
       "    <tr style=\"text-align: right;\">\n",
       "      <th></th>\n",
       "      <th>PassengerId</th>\n",
       "      <th>Survived</th>\n",
       "      <th>Pclass</th>\n",
       "      <th>Name</th>\n",
       "      <th>Sex</th>\n",
       "      <th>Age</th>\n",
       "      <th>SibSp</th>\n",
       "      <th>Parch</th>\n",
       "      <th>Ticket</th>\n",
       "      <th>Fare</th>\n",
       "      <th>Cabin</th>\n",
       "      <th>Embarked</th>\n",
       "    </tr>\n",
       "  </thead>\n",
       "  <tbody>\n",
       "    <tr>\n",
       "      <th>0</th>\n",
       "      <td>1</td>\n",
       "      <td>0</td>\n",
       "      <td>3</td>\n",
       "      <td>Braund, Mr. Owen Harris</td>\n",
       "      <td>male</td>\n",
       "      <td>22.0</td>\n",
       "      <td>1</td>\n",
       "      <td>0</td>\n",
       "      <td>A/5 21171</td>\n",
       "      <td>7.2500</td>\n",
       "      <td>NaN</td>\n",
       "      <td>S</td>\n",
       "    </tr>\n",
       "    <tr>\n",
       "      <th>1</th>\n",
       "      <td>2</td>\n",
       "      <td>1</td>\n",
       "      <td>1</td>\n",
       "      <td>Cumings, Mrs. John Bradley (Florence Briggs Th...</td>\n",
       "      <td>female</td>\n",
       "      <td>38.0</td>\n",
       "      <td>1</td>\n",
       "      <td>0</td>\n",
       "      <td>PC 17599</td>\n",
       "      <td>71.2833</td>\n",
       "      <td>C85</td>\n",
       "      <td>C</td>\n",
       "    </tr>\n",
       "    <tr>\n",
       "      <th>2</th>\n",
       "      <td>3</td>\n",
       "      <td>1</td>\n",
       "      <td>3</td>\n",
       "      <td>Heikkinen, Miss. Laina</td>\n",
       "      <td>female</td>\n",
       "      <td>26.0</td>\n",
       "      <td>0</td>\n",
       "      <td>0</td>\n",
       "      <td>STON/O2. 3101282</td>\n",
       "      <td>7.9250</td>\n",
       "      <td>NaN</td>\n",
       "      <td>S</td>\n",
       "    </tr>\n",
       "    <tr>\n",
       "      <th>3</th>\n",
       "      <td>4</td>\n",
       "      <td>1</td>\n",
       "      <td>1</td>\n",
       "      <td>Futrelle, Mrs. Jacques Heath (Lily May Peel)</td>\n",
       "      <td>female</td>\n",
       "      <td>35.0</td>\n",
       "      <td>1</td>\n",
       "      <td>0</td>\n",
       "      <td>113803</td>\n",
       "      <td>53.1000</td>\n",
       "      <td>C123</td>\n",
       "      <td>S</td>\n",
       "    </tr>\n",
       "    <tr>\n",
       "      <th>4</th>\n",
       "      <td>5</td>\n",
       "      <td>0</td>\n",
       "      <td>3</td>\n",
       "      <td>Allen, Mr. William Henry</td>\n",
       "      <td>male</td>\n",
       "      <td>35.0</td>\n",
       "      <td>0</td>\n",
       "      <td>0</td>\n",
       "      <td>373450</td>\n",
       "      <td>8.0500</td>\n",
       "      <td>NaN</td>\n",
       "      <td>S</td>\n",
       "    </tr>\n",
       "  </tbody>\n",
       "</table>\n",
       "</div>"
      ],
      "text/plain": [
       "   PassengerId  Survived  Pclass  \\\n",
       "0            1         0       3   \n",
       "1            2         1       1   \n",
       "2            3         1       3   \n",
       "3            4         1       1   \n",
       "4            5         0       3   \n",
       "\n",
       "                                                Name     Sex   Age  SibSp  \\\n",
       "0                            Braund, Mr. Owen Harris    male  22.0      1   \n",
       "1  Cumings, Mrs. John Bradley (Florence Briggs Th...  female  38.0      1   \n",
       "2                             Heikkinen, Miss. Laina  female  26.0      0   \n",
       "3       Futrelle, Mrs. Jacques Heath (Lily May Peel)  female  35.0      1   \n",
       "4                           Allen, Mr. William Henry    male  35.0      0   \n",
       "\n",
       "   Parch            Ticket     Fare Cabin Embarked  \n",
       "0      0         A/5 21171   7.2500   NaN        S  \n",
       "1      0          PC 17599  71.2833   C85        C  \n",
       "2      0  STON/O2. 3101282   7.9250   NaN        S  \n",
       "3      0            113803  53.1000  C123        S  \n",
       "4      0            373450   8.0500   NaN        S  "
      ]
     },
     "execution_count": 2,
     "metadata": {},
     "output_type": "execute_result"
    }
   ],
   "source": [
    "import pandas as pd\n",
    "\n",
    "# Load the dataset\n",
    "df = pd.read_csv(\"train.csv\")\n",
    "\n",
    "# Display the shape and first few rows\n",
    "print(f\"Shape of dataset: {df.shape}\")  # (rows, columns)\n",
    "df.head()\n"
   ]
  },
  {
   "cell_type": "markdown",
   "id": "c35897b8",
   "metadata": {},
   "source": [
    "## Step 2: Data Summary and Exploration Plan\n",
    "\n",
    "In this step, we summarize the dataset's key characteristics, including the number of rows and columns, feature types (categorical, numerical), and the target variable.\n",
    "\n",
    "We will also outline our initial exploration plan and define the analytical goals for this project.\n"
   ]
  },
  {
   "cell_type": "code",
   "execution_count": 3,
   "id": "983a6625",
   "metadata": {},
   "outputs": [
    {
     "name": "stdout",
     "output_type": "stream",
     "text": [
      "<class 'pandas.core.frame.DataFrame'>\n",
      "RangeIndex: 891 entries, 0 to 890\n",
      "Data columns (total 12 columns):\n",
      " #   Column       Non-Null Count  Dtype  \n",
      "---  ------       --------------  -----  \n",
      " 0   PassengerId  891 non-null    int64  \n",
      " 1   Survived     891 non-null    int64  \n",
      " 2   Pclass       891 non-null    int64  \n",
      " 3   Name         891 non-null    object \n",
      " 4   Sex          891 non-null    object \n",
      " 5   Age          714 non-null    float64\n",
      " 6   SibSp        891 non-null    int64  \n",
      " 7   Parch        891 non-null    int64  \n",
      " 8   Ticket       891 non-null    object \n",
      " 9   Fare         891 non-null    float64\n",
      " 10  Cabin        204 non-null    object \n",
      " 11  Embarked     889 non-null    object \n",
      "dtypes: float64(2), int64(5), object(5)\n",
      "memory usage: 83.7+ KB\n"
     ]
    }
   ],
   "source": [
    "# Summary of column data types and non-null counts\n",
    "df.info()\n"
   ]
  },
  {
   "cell_type": "code",
   "execution_count": 4,
   "id": "561262c4",
   "metadata": {},
   "outputs": [
    {
     "data": {
      "text/html": [
       "<div>\n",
       "<style scoped>\n",
       "    .dataframe tbody tr th:only-of-type {\n",
       "        vertical-align: middle;\n",
       "    }\n",
       "\n",
       "    .dataframe tbody tr th {\n",
       "        vertical-align: top;\n",
       "    }\n",
       "\n",
       "    .dataframe thead th {\n",
       "        text-align: right;\n",
       "    }\n",
       "</style>\n",
       "<table border=\"1\" class=\"dataframe\">\n",
       "  <thead>\n",
       "    <tr style=\"text-align: right;\">\n",
       "      <th></th>\n",
       "      <th>PassengerId</th>\n",
       "      <th>Survived</th>\n",
       "      <th>Pclass</th>\n",
       "      <th>Age</th>\n",
       "      <th>SibSp</th>\n",
       "      <th>Parch</th>\n",
       "      <th>Fare</th>\n",
       "    </tr>\n",
       "  </thead>\n",
       "  <tbody>\n",
       "    <tr>\n",
       "      <th>count</th>\n",
       "      <td>891.000000</td>\n",
       "      <td>891.000000</td>\n",
       "      <td>891.000000</td>\n",
       "      <td>714.000000</td>\n",
       "      <td>891.000000</td>\n",
       "      <td>891.000000</td>\n",
       "      <td>891.000000</td>\n",
       "    </tr>\n",
       "    <tr>\n",
       "      <th>mean</th>\n",
       "      <td>446.000000</td>\n",
       "      <td>0.383838</td>\n",
       "      <td>2.308642</td>\n",
       "      <td>29.699118</td>\n",
       "      <td>0.523008</td>\n",
       "      <td>0.381594</td>\n",
       "      <td>32.204208</td>\n",
       "    </tr>\n",
       "    <tr>\n",
       "      <th>std</th>\n",
       "      <td>257.353842</td>\n",
       "      <td>0.486592</td>\n",
       "      <td>0.836071</td>\n",
       "      <td>14.526497</td>\n",
       "      <td>1.102743</td>\n",
       "      <td>0.806057</td>\n",
       "      <td>49.693429</td>\n",
       "    </tr>\n",
       "    <tr>\n",
       "      <th>min</th>\n",
       "      <td>1.000000</td>\n",
       "      <td>0.000000</td>\n",
       "      <td>1.000000</td>\n",
       "      <td>0.420000</td>\n",
       "      <td>0.000000</td>\n",
       "      <td>0.000000</td>\n",
       "      <td>0.000000</td>\n",
       "    </tr>\n",
       "    <tr>\n",
       "      <th>25%</th>\n",
       "      <td>223.500000</td>\n",
       "      <td>0.000000</td>\n",
       "      <td>2.000000</td>\n",
       "      <td>20.125000</td>\n",
       "      <td>0.000000</td>\n",
       "      <td>0.000000</td>\n",
       "      <td>7.910400</td>\n",
       "    </tr>\n",
       "    <tr>\n",
       "      <th>50%</th>\n",
       "      <td>446.000000</td>\n",
       "      <td>0.000000</td>\n",
       "      <td>3.000000</td>\n",
       "      <td>28.000000</td>\n",
       "      <td>0.000000</td>\n",
       "      <td>0.000000</td>\n",
       "      <td>14.454200</td>\n",
       "    </tr>\n",
       "    <tr>\n",
       "      <th>75%</th>\n",
       "      <td>668.500000</td>\n",
       "      <td>1.000000</td>\n",
       "      <td>3.000000</td>\n",
       "      <td>38.000000</td>\n",
       "      <td>1.000000</td>\n",
       "      <td>0.000000</td>\n",
       "      <td>31.000000</td>\n",
       "    </tr>\n",
       "    <tr>\n",
       "      <th>max</th>\n",
       "      <td>891.000000</td>\n",
       "      <td>1.000000</td>\n",
       "      <td>3.000000</td>\n",
       "      <td>80.000000</td>\n",
       "      <td>8.000000</td>\n",
       "      <td>6.000000</td>\n",
       "      <td>512.329200</td>\n",
       "    </tr>\n",
       "  </tbody>\n",
       "</table>\n",
       "</div>"
      ],
      "text/plain": [
       "       PassengerId    Survived      Pclass         Age       SibSp  \\\n",
       "count   891.000000  891.000000  891.000000  714.000000  891.000000   \n",
       "mean    446.000000    0.383838    2.308642   29.699118    0.523008   \n",
       "std     257.353842    0.486592    0.836071   14.526497    1.102743   \n",
       "min       1.000000    0.000000    1.000000    0.420000    0.000000   \n",
       "25%     223.500000    0.000000    2.000000   20.125000    0.000000   \n",
       "50%     446.000000    0.000000    3.000000   28.000000    0.000000   \n",
       "75%     668.500000    1.000000    3.000000   38.000000    1.000000   \n",
       "max     891.000000    1.000000    3.000000   80.000000    8.000000   \n",
       "\n",
       "            Parch        Fare  \n",
       "count  891.000000  891.000000  \n",
       "mean     0.381594   32.204208  \n",
       "std      0.806057   49.693429  \n",
       "min      0.000000    0.000000  \n",
       "25%      0.000000    7.910400  \n",
       "50%      0.000000   14.454200  \n",
       "75%      0.000000   31.000000  \n",
       "max      6.000000  512.329200  "
      ]
     },
     "execution_count": 4,
     "metadata": {},
     "output_type": "execute_result"
    }
   ],
   "source": [
    "# Summary statistics for numerical features\n",
    "df.describe()\n"
   ]
  },
  {
   "cell_type": "code",
   "execution_count": 5,
   "id": "7bd07350",
   "metadata": {},
   "outputs": [
    {
     "data": {
      "text/plain": [
       "PassengerId      0\n",
       "Survived         0\n",
       "Pclass           0\n",
       "Name             0\n",
       "Sex              0\n",
       "Age            177\n",
       "SibSp            0\n",
       "Parch            0\n",
       "Ticket           0\n",
       "Fare             0\n",
       "Cabin          687\n",
       "Embarked         2\n",
       "dtype: int64"
      ]
     },
     "execution_count": 5,
     "metadata": {},
     "output_type": "execute_result"
    }
   ],
   "source": [
    "# Count of missing values per column\n",
    "df.isnull().sum()\n"
   ]
  },
  {
   "cell_type": "markdown",
   "id": "3d6d6d51",
   "metadata": {},
   "source": [
    "### 📊 Dataset Summary\n",
    "\n",
    "- The dataset contains `891` rows and `12` columns.\n",
    "- The target variable is `Survived` (0 = No, 1 = Yes).\n",
    "- Categorical features include: `Sex`, `Embarked`, `Pclass`\n",
    "- Numerical features include: `Age`, `Fare`, `SibSp`, `Parch`\n",
    "\n",
    "### ⚙️ Missing Values\n",
    "- The `Age` and `Cabin` columns have missing values.\n",
    "- The `Embarked` column has a few missing entries.\n",
    "- The `Cabin` column has many missing values and may need special handling or removal.\n",
    "\n",
    "### 🔍 Exploration Goals\n",
    "\n",
    "We aim to:\n",
    "- Analyze survival rates across different demographics (e.g., sex, class, age).\n",
    "- Identify features that strongly correlate with survival.\n",
    "- Perform hypothesis testing to verify claims about survival likelihood.\n",
    "- Create visualizations to communicate insights clearly.\n",
    "\n",
    "Next, we'll begin **Exploratory Data Analysis (EDA)** to uncover patterns and trends in the data.\n"
   ]
  },
  {
   "cell_type": "markdown",
   "id": "198c1913",
   "metadata": {},
   "source": [
    "## Step 3: Exploratory Data Analysis (EDA)\n",
    "\n",
    "In this step, we explore the data using visualizations and group statistics to uncover meaningful patterns related to survival.\n",
    "\n",
    "We begin by examining survival rates across key categorical variables such as `Sex`, `Pclass`, and `Embarked`, followed by numerical features like `Age` and `Fare`.\n",
    "\n"
   ]
  },
  {
   "cell_type": "code",
   "execution_count": 6,
   "id": "2a39dba4",
   "metadata": {},
   "outputs": [
    {
     "data": {
      "image/png": "[encoded data removed]",
      "text/plain": [
       "<Figure size 640x480 with 1 Axes>"
      ]
     },
     "metadata": {},
     "output_type": "display_data"
    }
   ],
   "source": [
    "import seaborn as sns\n",
    "import matplotlib.pyplot as plt\n",
    "\n",
    "# Set style\n",
    "#sns.set(style=\"whitegrid\")\n",
    "\n",
    "# Bar plot: Survival by Sex\n",
    "sns.countplot(data=df, x='Sex', hue='Survived')\n",
    "plt.title('Survival Count by Gender')\n",
    "plt.ylabel('Passenger Count')\n",
    "plt.xlabel('Sex')\n",
    "plt.legend(title='Survived', labels=['No', 'Yes'])\n",
    "plt.show()\n"
   ]
  },
  {
   "cell_type": "code",
   "execution_count": 7,
   "id": "57de2dcd",
   "metadata": {},
   "outputs": [
    {
     "data": {
      "image/png": "[encoded data removed]",
      "text/plain": [
       "<Figure size 640x480 with 1 Axes>"
      ]
     },
     "metadata": {},
     "output_type": "display_data"
    }
   ],
   "source": [
    "# Bar plot: Survival by Pclass\n",
    "sns.countplot(data=df, x='Pclass', hue='Survived')\n",
    "plt.title('Survival Count by Passenger Class')\n",
    "plt.xlabel('Passenger Class')\n",
    "plt.ylabel('Count')\n",
    "plt.legend(title='Survived', labels=['No', 'Yes'])\n",
    "plt.show()\n"
   ]
  },
  {
   "cell_type": "code",
   "execution_count": 8,
   "id": "2585240d",
   "metadata": {},
   "outputs": [
    {
     "data": {
      "image/png": "[encoded data removed]",
      "text/plain": [
       "<Figure size 640x480 with 1 Axes>"
      ]
     },
     "metadata": {},
     "output_type": "display_data"
    }
   ],
   "source": [
    "# Bar plot: Embarked vs Survival\n",
    "sns.countplot(data=df, x='Embarked', hue='Survived')\n",
    "plt.title('Survival Count by Embarkation Port')\n",
    "plt.xlabel('Embarked')\n",
    "plt.ylabel('Count')\n",
    "plt.legend(title='Survived', labels=['No', 'Yes'])\n",
    "plt.show()\n"
   ]
  },
  {
   "cell_type": "code",
   "execution_count": 9,
   "id": "f22464ac",
   "metadata": {},
   "outputs": [
    {
     "data": {
      "image/png": "[encoded data removed]",
      "text/plain": [
       "<Figure size 1000x600 with 2 Axes>"
      ]
     },
     "metadata": {},
     "output_type": "display_data"
    }
   ],
   "source": [
    "# Numerical correlation matrix\n",
    "plt.figure(figsize=(10, 6))\n",
    "sns.heatmap(df.corr(numeric_only=True), annot=True, cmap='coolwarm')\n",
    "plt.title('Correlation Heatmap of Numerical Features')\n",
    "plt.show()\n"
   ]
  },
  {
   "cell_type": "markdown",
   "id": "a660756f",
   "metadata": {},
   "source": [
    "### 🔍 EDA Observations\n",
    "\n",
    "- **Gender:** Females had significantly higher survival rates than males.\n",
    "- **Class:** First-class passengers were more likely to survive than second or third class.\n",
    "- **Age:** Younger passengers, particularly children, had better chances of survival.\n",
    "- **Embarked Port:** Passengers embarking from Cherbourg (`C`) had a higher survival rate.\n",
    "- **Fare:** Higher ticket fares were weakly correlated with survival.\n",
    "\n",
    "These observations will help guide our hypotheses and significance testing in the next step.\n"
   ]
  },
  {
   "cell_type": "markdown",
   "id": "86de0bef",
   "metadata": {},
   "source": [
    "## Step 4: Data Cleaning & Feature Engineering\n",
    "\n",
    "To ensure the dataset is ready for hypothesis testing and modeling, we clean missing data, encode categorical variables, and create new derived features to improve insight quality.\n"
   ]
  },
  {
   "cell_type": "code",
   "execution_count": 10,
   "id": "cb4ed7db",
   "metadata": {},
   "outputs": [
    {
     "data": {
      "text/plain": [
       "PassengerId      0\n",
       "Survived         0\n",
       "Pclass           0\n",
       "Name             0\n",
       "Sex              0\n",
       "Age            177\n",
       "SibSp            0\n",
       "Parch            0\n",
       "Ticket           0\n",
       "Fare             0\n",
       "Cabin          687\n",
       "Embarked         2\n",
       "dtype: int64"
      ]
     },
     "execution_count": 10,
     "metadata": {},
     "output_type": "execute_result"
    }
   ],
   "source": [
    "# Check missing values again\n",
    "df.isnull().sum()\n"
   ]
  },
  {
   "cell_type": "code",
   "execution_count": 11,
   "id": "8e1d1119",
   "metadata": {},
   "outputs": [
    {
     "data": {
      "text/plain": [
       "PassengerId    0\n",
       "Survived       0\n",
       "Pclass         0\n",
       "Name           0\n",
       "Sex            0\n",
       "Age            0\n",
       "SibSp          0\n",
       "Parch          0\n",
       "Ticket         0\n",
       "Fare           0\n",
       "Embarked       0\n",
       "dtype: int64"
      ]
     },
     "execution_count": 11,
     "metadata": {},
     "output_type": "execute_result"
    }
   ],
   "source": [
    "# Drop 'Cabin' (too many missing values)\n",
    "df = df.drop(columns=['Cabin'])\n",
    "\n",
    "# Fill missing 'Age' with median\n",
    "df['Age'] = df['Age'].fillna(df['Age'].median())\n",
    "\n",
    "# Fill missing 'Embarked' with mode (most frequent)\n",
    "df['Embarked'] = df['Embarked'].fillna(df['Embarked'].mode()[0])\n",
    "\n",
    "# Double check\n",
    "df.isnull().sum()\n"
   ]
  },
  {
   "cell_type": "code",
   "execution_count": 12,
   "id": "7442a916",
   "metadata": {},
   "outputs": [],
   "source": [
    "# Encode 'Sex': male = 0, female = 1\n",
    "df['Sex'] = df['Sex'].map({'male': 0, 'female': 1})\n",
    "\n",
    "# Encode 'Embarked': C = 0, Q = 1, S = 2\n",
    "df['Embarked'] = df['Embarked'].map({'C': 0, 'Q': 1, 'S': 2})\n"
   ]
  },
  {
   "cell_type": "code",
   "execution_count": 13,
   "id": "53d1e261",
   "metadata": {},
   "outputs": [
    {
     "data": {
      "text/html": [
       "<div>\n",
       "<style scoped>\n",
       "    .dataframe tbody tr th:only-of-type {\n",
       "        vertical-align: middle;\n",
       "    }\n",
       "\n",
       "    .dataframe tbody tr th {\n",
       "        vertical-align: top;\n",
       "    }\n",
       "\n",
       "    .dataframe thead th {\n",
       "        text-align: right;\n",
       "    }\n",
       "</style>\n",
       "<table border=\"1\" class=\"dataframe\">\n",
       "  <thead>\n",
       "    <tr style=\"text-align: right;\">\n",
       "      <th></th>\n",
       "      <th>SibSp</th>\n",
       "      <th>Parch</th>\n",
       "      <th>FamilySize</th>\n",
       "      <th>IsAlone</th>\n",
       "    </tr>\n",
       "  </thead>\n",
       "  <tbody>\n",
       "    <tr>\n",
       "      <th>0</th>\n",
       "      <td>1</td>\n",
       "      <td>0</td>\n",
       "      <td>2</td>\n",
       "      <td>0</td>\n",
       "    </tr>\n",
       "    <tr>\n",
       "      <th>1</th>\n",
       "      <td>1</td>\n",
       "      <td>0</td>\n",
       "      <td>2</td>\n",
       "      <td>0</td>\n",
       "    </tr>\n",
       "    <tr>\n",
       "      <th>2</th>\n",
       "      <td>0</td>\n",
       "      <td>0</td>\n",
       "      <td>1</td>\n",
       "      <td>1</td>\n",
       "    </tr>\n",
       "    <tr>\n",
       "      <th>3</th>\n",
       "      <td>1</td>\n",
       "      <td>0</td>\n",
       "      <td>2</td>\n",
       "      <td>0</td>\n",
       "    </tr>\n",
       "    <tr>\n",
       "      <th>4</th>\n",
       "      <td>0</td>\n",
       "      <td>0</td>\n",
       "      <td>1</td>\n",
       "      <td>1</td>\n",
       "    </tr>\n",
       "  </tbody>\n",
       "</table>\n",
       "</div>"
      ],
      "text/plain": [
       "   SibSp  Parch  FamilySize  IsAlone\n",
       "0      1      0           2        0\n",
       "1      1      0           2        0\n",
       "2      0      0           1        1\n",
       "3      1      0           2        0\n",
       "4      0      0           1        1"
      ]
     },
     "execution_count": 13,
     "metadata": {},
     "output_type": "execute_result"
    }
   ],
   "source": [
    "df['FamilySize'] = df['SibSp'] + df['Parch'] + 1\n",
    "df['IsAlone'] = 0\n",
    "df.loc[df['FamilySize'] == 1, 'IsAlone'] = 1\n",
    "\n",
    "# Preview changes\n",
    "df[['SibSp', 'Parch', 'FamilySize', 'IsAlone']].head()\n"
   ]
  },
  {
   "cell_type": "markdown",
   "id": "79c581c6",
   "metadata": {},
   "source": [
    "### ✅ Cleaning Summary\n",
    "\n",
    "- Removed the `Cabin` column due to excessive missing values.\n",
    "- Filled missing `Age` with the median and `Embarked` with the mode.\n",
    "- Encoded categorical variables `Sex` and `Embarked` numerically.\n",
    "- Created new features:\n",
    "  - `FamilySize` to represent group size onboard\n",
    "  - `IsAlone` to indicate if a passenger was traveling alone\n",
    "\n",
    "We now proceed to formal **hypothesis formulation and significance testing** in the next step.\n"
   ]
  },
  {
   "cell_type": "markdown",
   "id": "6b17ec5a",
   "metadata": {},
   "source": [
    "## Step 5: Hypothesis Formulation and Significance Testing\n",
    "\n",
    "We define three meaningful hypotheses about survival on the Titanic, then use statistical significance testing to validate one of them.\n",
    "\n",
    "### Hypothesis 1: Gender and Survival\n",
    "- **H₀ (Null):** Survival is independent of gender\n",
    "- **H₁ (Alt):** Gender has a significant effect on survival\n",
    "\n",
    "### Hypothesis 2: Passenger Class and Survival\n",
    "- **H₀:** Survival is independent of passenger class\n",
    "- **H₁:** Higher class passengers were more likely to survive\n",
    "\n",
    "### Hypothesis 3: Age and Survival\n",
    "- **H₀:** Mean age is the same for survivors and non-survivors\n",
    "- **H₁:** There is a significant difference in average age between survivors and non-survivors\n"
   ]
  },
  {
   "cell_type": "code",
   "execution_count": 14,
   "id": "afe6a397",
   "metadata": {},
   "outputs": [
    {
     "name": "stdout",
     "output_type": "stream",
     "text": [
      "Contingency Table:\n",
      " Sex         0    1\n",
      "Survived          \n",
      "0         468   81\n",
      "1         109  233\n",
      "\n",
      "Chi2 Value: 260.71702016732104\n",
      "Degrees of Freedom: 1\n",
      "P-Value: 1.1973570627755645e-58\n",
      "\n",
      "✅ Reject the null hypothesis: Gender has a significant impact on survival.\n"
     ]
    }
   ],
   "source": [
    "from scipy.stats import chi2_contingency\n",
    "\n",
    "# Create a contingency table\n",
    "contingency = pd.crosstab(df['Survived'], df['Sex'])\n",
    "print(\"Contingency Table:\\n\", contingency)\n",
    "\n",
    "# Run Chi-Square Test\n",
    "chi2, p, dof, expected = chi2_contingency(contingency)\n",
    "\n",
    "print(\"\\nChi2 Value:\", chi2)\n",
    "print(\"Degrees of Freedom:\", dof)\n",
    "print(\"P-Value:\", p)\n",
    "\n",
    "# Significance level\n",
    "alpha = 0.05\n",
    "\n",
    "if p < alpha:\n",
    "    print(\"\\n✅ Reject the null hypothesis: Gender has a significant impact on survival.\")\n",
    "else:\n",
    "    print(\"\\n❌ Fail to reject the null hypothesis: Gender does not significantly impact survival.\")\n"
   ]
  },
  {
   "cell_type": "markdown",
   "id": "1876c9a3",
   "metadata": {},
   "source": [
    "### 🧪 Hypothesis Test Result: Gender and Survival\n",
    "\n",
    "- **Chi-Square statistic:** 260.71702016732104\n",
    "- **p-value:** 1.1973570627755645e-58\n",
    "- **Significance Level (α):** 0.05\n",
    "\n",
    "Since the p-value is **less than 0.05**, we **reject the null hypothesis**.\n",
    "\n",
    "➡️ **Conclusion:** Gender **does** significantly impact survival — female passengers were more likely to survive.\n"
   ]
  },
  {
   "cell_type": "markdown",
   "id": "8d2cc96c",
   "metadata": {},
   "source": []
  },
  {
   "cell_type": "code",
   "execution_count": 15,
   "id": "266705ff",
   "metadata": {},
   "outputs": [
    {
     "name": "stdout",
     "output_type": "stream",
     "text": [
      "Contingency Table:\n",
      " Pclass      1   2    3\n",
      "Survived              \n",
      "0          80  97  372\n",
      "1         136  87  119\n",
      "\n",
      "Chi2 Value: 102.88898875696056\n",
      "Degrees of Freedom: 2\n",
      "P-Value: 4.549251711298793e-23\n",
      "\n",
      "✅ Reject the null hypothesis: Passenger class has a significant impact on survival.\n"
     ]
    }
   ],
   "source": [
    "# Step 5: Hypothesis 2 - Passenger Class and Survival\n",
    "\n",
    "from scipy.stats import chi2_contingency\n",
    "\n",
    "# Create a contingency table for Survived vs Pclass\n",
    "contingency_class = pd.crosstab(df['Survived'], df['Pclass'])\n",
    "print(\"Contingency Table:\\n\", contingency_class)\n",
    "\n",
    "# Run Chi-Square Test\n",
    "chi2_class, p_class, dof_class, expected_class = chi2_contingency(contingency_class)\n",
    "\n",
    "print(\"\\nChi2 Value:\", chi2_class)\n",
    "print(\"Degrees of Freedom:\", dof_class)\n",
    "print(\"P-Value:\", p_class)\n",
    "\n",
    "# Significance level\n",
    "alpha = 0.05\n",
    "\n",
    "if p_class < alpha:\n",
    "    print(\"\\n✅ Reject the null hypothesis: Passenger class has a significant impact on survival.\")\n",
    "else:\n",
    "    print(\"\\n❌ Fail to reject the null hypothesis: Passenger class does not significantly impact survival.\")"
   ]
  },
  {
   "cell_type": "markdown",
   "id": "c3a1263b",
   "metadata": {},
   "source": [
    "## 🧪 Hypothesis Test Result: Passenger Class and Survival\n",
    "\n",
    "- **Chi-Square statistic:** 102.88898875696056\n",
    "- **p-value:** 4.549251711298793e-23\n",
    "- **Significance Level (α):** 0.05\n",
    "\n",
    "Since the p-value is **less than 0.05**, we **reject the null hypothesis**.\n",
    "\n",
    "➡️ **Conclusion:** Passenger class **does** significantly impact survival — higher class passengers were more likely to survive."
   ]
  },
  {
   "cell_type": "code",
   "execution_count": 16,
   "id": "c1b1987a",
   "metadata": {},
   "outputs": [
    {
     "name": "stdout",
     "output_type": "stream",
     "text": [
      "Mean Age (Survived): 28.29143274853801\n",
      "Mean Age (Not Survived): 30.028233151183972\n",
      "T-statistic: -1.9394659179476366\n",
      "P-Value: 0.0527606884758555\n",
      "\n",
      "❌ Fail to reject the null hypothesis: No significant difference in average age between survivors and non-survivors.\n"
     ]
    }
   ],
   "source": [
    "# Step 5: Hypothesis 3 - Age and Survival\n",
    "\n",
    "from scipy.stats import ttest_ind\n",
    "\n",
    "# Split ages by survival status\n",
    "age_survived = df[df['Survived'] == 1]['Age']\n",
    "age_not_survived = df[df['Survived'] == 0]['Age']\n",
    "\n",
    "# Run independent t-test\n",
    "t_stat, p_age = ttest_ind(age_survived, age_not_survived)\n",
    "\n",
    "print(\"Mean Age (Survived):\", age_survived.mean())\n",
    "print(\"Mean Age (Not Survived):\", age_not_survived.mean())\n",
    "print(\"T-statistic:\", t_stat)\n",
    "print(\"P-Value:\", p_age)\n",
    "\n",
    "if p_age < alpha:\n",
    "    print(\"\\n✅ Reject the null hypothesis: There is a significant difference in average age between survivors and non-survivors.\")\n",
    "else:\n",
    "    print(\"\\n❌ Fail to reject the null hypothesis: No significant difference in average age between survivors and non-survivors.\")"
   ]
  },
  {
   "cell_type": "markdown",
   "id": "9af9af83",
   "metadata": {},
   "source": [
    "## 🧪 Hypothesis Test Result: Age and Survival\n",
    "\n",
    "- **Mean Age (Survived):** 28.29143274853801\n",
    "- **Mean Age (Not Survived):** 30.028233151183972\n",
    "- **T-statistic:** -1.9394659179476366\n",
    "- **p-value:** 0.0527606884758555\n",
    "- **Significance Level (α):** 0.05\n",
    "\n",
    "If the p-value is **less than 0.05**, we **reject the null hypothesis**.\n",
    "\n",
    "➡️ **Conclusion:** There **is** a significant difference in average age between survivors and non-survivors."
   ]
  },
  {
   "cell_type": "code",
   "execution_count": null,
   "id": "cd310f59",
   "metadata": {},
   "outputs": [],
   "source": []
  }
 ],
 "metadata": {
  "kernelspec": {
   "display_name": "Python 3",
   "language": "python",
   "name": "python3"
  },
  "language_info": {
   "codemirror_mode": {
    "name": "ipython",
    "version": 3
   },
   "file_extension": ".py",
   "mimetype": "text/x-python",
   "name": "python",
   "nbconvert_exporter": "python",
   "pygments_lexer": "ipython3",
   "version": "3.13.3"
  }
 },
 "nbformat": 4,
 "nbformat_minor": 5
}
